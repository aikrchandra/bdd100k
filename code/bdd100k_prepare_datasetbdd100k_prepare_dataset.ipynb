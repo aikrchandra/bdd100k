{
 "cells": [
  {
   "cell_type": "code",
   "execution_count": null,
   "id": "e7266dfa",
   "metadata": {
    "lines_to_next_cell": 1
   },
   "outputs": [],
   "source": [
    "import json\n",
    "import os\n",
    "from tqdm import tqdm\n",
    "import shutil"
   ]
  },
  {
   "cell_type": "code",
   "execution_count": null,
   "id": "14457d0f",
   "metadata": {
    "lines_to_next_cell": 1
   },
   "outputs": [],
   "source": [
    "def createfolderstructure(dirpath,empty_folder=False):\n",
    "    #print(dirpath,os.path.exists(dirpath))\n",
    "    if not os.path.exists(dirpath):\n",
    "        os.makedirs(dirpath)\n",
    "    elif empty_folder:\n",
    "        for f in os.listdir(dirpath):\n",
    "            f_path = os.path.join(dirpath, f)\n",
    "            if os.path.isfile(f_path):\n",
    "                os.remove(f_path)\n",
    "def bdd100klabeltoYOLOlabelformat(label_json_path,save_path,image_size,class_labels):\n",
    "    with open(label_json_path) as json_file:\n",
    "        data = json.load(json_file)\n",
    "        if not os.path.exists(save_path):\n",
    "            os.makedirs(save_path)\n",
    "        for item in tqdm(data):\n",
    "            file_name,content = converbddtoYOLOlabelformat(item,image_size,class_labels)\n",
    "            writelabelfile(save_path+\"//\"+file_name,content)"
   ]
  },
  {
   "cell_type": "code",
   "execution_count": null,
   "id": "8c4ab2a6",
   "metadata": {
    "lines_to_next_cell": 1
   },
   "outputs": [],
   "source": [
    "def converbddtoYOLOlabelformat(item,image_size,class_labels):\n",
    "    img_w, img_h = image_size\n",
    "    img_name = str(item['name'][:-4])\n",
    "    img_label_txt = img_name + \".txt\"\n",
    "    img_labels = [l for l in item['labels']]\n",
    "    label_annotation =''\n",
    "    for label in img_labels:\n",
    "        y1 = label['box2d']['y1']\n",
    "        x2 = label['box2d']['x2']\n",
    "        x1 = label['box2d']['x1']\n",
    "        y2 = label['box2d']['y2']\n",
    "        class_name = label['category']\n",
    "        class_id = class_labels[class_name]\n",
    "\n",
    "        bbox_x = (x1 + x2) / 2\n",
    "        bbox_y = (y1 + y2) / 2\n",
    "\n",
    "        bbox_width = x2 - x1\n",
    "        bbox_height = y2 - y1\n",
    "\n",
    "        bbox_x_norm = bbox_x / img_w\n",
    "        bbox_y_norm = bbox_y / img_h\n",
    "\n",
    "        bbox_width_norm = bbox_width / img_w\n",
    "        bbox_height_norm = bbox_height / img_h\n",
    "\n",
    "        label_annotation += '{} {} {} {} {}\\n'.format(\n",
    "            class_id, bbox_x_norm, bbox_y_norm, bbox_width_norm, bbox_height_norm)\n",
    "    return img_label_txt,label_annotation"
   ]
  },
  {
   "cell_type": "code",
   "execution_count": null,
   "id": "a8fb1ddf",
   "metadata": {},
   "outputs": [],
   "source": [
    "def writelabelfile(file_path,content):\n",
    "    with open(file_path, 'w+') as f_label:\n",
    "        f_label.write(content + \"\\n\")"
   ]
  },
  {
   "cell_type": "code",
   "execution_count": null,
   "id": "fdd37918",
   "metadata": {
    "lines_to_next_cell": 1
   },
   "outputs": [],
   "source": [
    "def preparesample(img_source_path,label_source_path,dest_path,train_sample_size=100,val_sample_size=10,test_sample_size=10):\n",
    "    print(\"training samples...\")\n",
    "    if train_sample_size > 0 and os.path.exists(label_source_path+\"/train\"):\n",
    "        createfolderstructure(dest_path + \"/labels/train\",True)\n",
    "        createfolderstructure(dest_path + \"/images/train\",True)\n",
    "        cnt = 0\n",
    "        for file in os.listdir(label_source_path+\"/train\"):\n",
    "            cnt += 1\n",
    "            img_file_name = file[:-4]+\".jpg\"\n",
    "            shutil.copyfile(label_source_path+\"/train\"+\"/\"+file,dest_path+\"/labels/train\"+\"/\"+file)\n",
    "            shutil.copyfile(img_source_path+\"/train\"+\"/\"+img_file_name,dest_path+\"/images/train\"+\"/\"+img_file_name)\n",
    "            if cnt == train_sample_size:\n",
    "                break\n",
    "\n",
    "    print(\"validation samples...........\")\n",
    "    if val_sample_size > 0 and os.path.exists(label_source_path+\"/val\"):\n",
    "        createfolderstructure(dest_path + \"/labels/val\",True)\n",
    "        createfolderstructure(dest_path + \"/images/val\",True)\n",
    "        cnt = 0\n",
    "        for file in os.listdir(label_source_path+\"/val\"):\n",
    "            cnt += 1\n",
    "            img_file_name = file[:-4]+\".jpg\"\n",
    "            shutil.copyfile(label_source_path+\"/val\"+\"/\"+file,dest_path+\"/labels/val\"+\"/\"+file)\n",
    "            shutil.copyfile(img_source_path+\"/val\"+\"/\"+img_file_name,dest_path+\"/images/val\"+\"/\"+img_file_name)\n",
    "            if cnt == val_sample_size:\n",
    "                break\n",
    "\n",
    "    print(\"test samples...\")\n",
    "    if test_sample_size > 0 and os.path.exists(label_source_path+\"/test\"):\n",
    "        createfolderstructure(dest_path + \"/labels/test\",True)\n",
    "        createfolderstructure(dest_path + \"/images/test\",True)\n",
    "        cnt = 1\n",
    "        for file in os.listdir(label_source_path+\"/test\"):\n",
    "            cnt += 1\n",
    "            img_file_name = file[:-4]+\".jpg\"\n",
    "            shutil.copyfile(label_source_path+\"/test\"+\"/\"+file,dest_path+\"/labels/test\"+\"/\"+file)\n",
    "            shutil.copyfile(img_source_path+\"/test\"+\"/\"+img_file_name,dest_path+\"/images/test\"+\"/\"+img_file_name)\n",
    "            if cnt == test_sample_size:\n",
    "                break"
   ]
  },
  {
   "cell_type": "code",
   "execution_count": null,
   "id": "4cdfddef",
   "metadata": {},
   "outputs": [],
   "source": [
    "def frameextractor():\n",
    "    pass"
   ]
  }
 ],
 "metadata": {
  "jupytext": {
   "cell_metadata_filter": "-all",
   "main_language": "python",
   "notebook_metadata_filter": "-all"
  }
 },
 "nbformat": 4,
 "nbformat_minor": 5
}
