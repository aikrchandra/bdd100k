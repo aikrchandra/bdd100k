{
  "cells": [
    {
      "cell_type": "code",
      "execution_count": null,
      "metadata": {
        "cellView": "form",
        "id": "Ly5ZbOmu97Uj"
      },
      "outputs": [],
      "source": [
        "# @title\n",
        "# # Download the notebook file\n",
        "# !wget -O bdd100k_prepare_dataset.py https://raw.githubusercontent.com/aikrchandra/bdd100k/main/code/bdd100k_prepare_dataset.py\n",
        "# #!wget -O bdd100k_prepare_dataset.ipynb https://raw.githubusercontent.com/aikrchandra/bdd100k/main/code/bdd100k_prepare_dataset.ipynb"
      ]
    },
    {
      "cell_type": "code",
      "execution_count": 1,
      "metadata": {
        "colab": {
          "base_uri": "https://localhost:8080/"
        },
        "id": "8RF3noEJHjH6",
        "outputId": "a4d68dcf-eb45-479f-fbe2-0571b63b1dba"
      },
      "outputs": [
        {
          "name": "stdout",
          "output_type": "stream",
          "text": [
            "Cloning into 'bdd100k'...\n",
            "remote: Enumerating objects: 26, done.\u001b[K\n",
            "remote: Counting objects: 100% (26/26), done.\u001b[K\n",
            "remote: Compressing objects: 100% (22/22), done.\u001b[K\n",
            "remote: Total 26 (delta 11), reused 16 (delta 4), pack-reused 0\u001b[K\n",
            "Receiving objects: 100% (26/26), 6.16 KiB | 6.16 MiB/s, done.\n",
            "Resolving deltas: 100% (11/11), done.\n"
          ]
        }
      ],
      "source": [
        "# Clone the repository\n",
        "!git clone https://github.com/aikrchandra/bdd100k.git"
      ]
    },
    {
      "cell_type": "code",
      "execution_count": 8,
      "metadata": {
        "id": "mPZGsSPHI8en"
      },
      "outputs": [],
      "source": [
        "# import sys\n",
        "# #sys.path.append('/content/bdd100k/code')"
      ]
    },
    {
      "cell_type": "code",
      "execution_count": 14,
      "metadata": {},
      "outputs": [
        {
          "name": "stdout",
          "output_type": "stream",
          "text": [
            "Requirement already satisfied: opencv-python in c:\\users\\ravikothapalli\\anaconda3\\lib\\site-packages (4.8.1.78)\n",
            "Requirement already satisfied: numpy>=1.21.2 in c:\\users\\ravikothapalli\\anaconda3\\lib\\site-packages (from opencv-python) (1.23.5)\n",
            "Requirement already satisfied: tqdm in c:\\users\\ravikothapalli\\anaconda3\\lib\\site-packages (4.64.1)\n",
            "Requirement already satisfied: colorama in c:\\users\\ravikothapalli\\anaconda3\\lib\\site-packages (from tqdm) (0.4.6)\n"
          ]
        }
      ],
      "source": [
        "!pip install opencv-python\n",
        "!pip install tqdm"
      ]
    },
    {
      "cell_type": "code",
      "execution_count": 1,
      "metadata": {
        "id": "Y9lG5rx_-ICr"
      },
      "outputs": [],
      "source": [
        "from bdd100k_prepare_dataset import *\n",
        "from projutils import *\n",
        "from defines import *"
      ]
    },
    {
      "cell_type": "code",
      "execution_count": 2,
      "metadata": {},
      "outputs": [],
      "source": [
        "input_directory = \"C:\\\\Ravi\\\\AIML\\\\Capstone\\\\temp_data\\\\org_images\"\n",
        "output_directory = \"C:\\\\Ravi\\\\AIML\\\\Capstone\\\\temp_data\\\\images\"\n",
        "image_size = (640, 640)\n",
        "\n",
        "# Resize and save the images\n",
        "resize_and_save_images(input_directory, output_directory, new_size=image_size)"
      ]
    },
    {
      "cell_type": "code",
      "execution_count": null,
      "metadata": {},
      "outputs": [],
      "source": [
        "images_path = \"C:\\\\Ravi\\\\AIML\\Capstone\\\\temp_data\\\\images\"\n",
        "labels_path = \"C:\\\\Ravi\\\\AIML\\\\Capstone\\\\temp_data\\\\labels\"\n",
        "dest_path = \"C:\\\\Ravi\\\\AIML\\\\Capstone\\\\temp_data\"\n",
        "preparesample(images_path,labels_path,dest_path,train_sample_size=100,val_sample_size=10,test_sample_size=10)"
      ]
    }
  ],
  "metadata": {
    "colab": {
      "provenance": []
    },
    "kernelspec": {
      "display_name": "Python 3",
      "name": "python3"
    },
    "language_info": {
      "codemirror_mode": {
        "name": "ipython",
        "version": 3
      },
      "file_extension": ".py",
      "mimetype": "text/x-python",
      "name": "python",
      "nbconvert_exporter": "python",
      "pygments_lexer": "ipython3",
      "version": "3.10.9"
    }
  },
  "nbformat": 4,
  "nbformat_minor": 0
}
